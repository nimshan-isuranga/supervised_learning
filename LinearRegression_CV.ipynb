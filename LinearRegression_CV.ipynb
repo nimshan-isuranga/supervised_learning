{
  "nbformat": 4,
  "nbformat_minor": 0,
  "metadata": {
    "colab": {
      "provenance": []
    },
    "kernelspec": {
      "name": "python3",
      "display_name": "Python 3"
    },
    "language_info": {
      "name": "python"
    }
  },
  "cells": [
    {
      "cell_type": "code",
      "execution_count": null,
      "metadata": {
        "id": "OTLSzz-CMoDF"
      },
      "outputs": [],
      "source": [
        "import numpy as np \n",
        "import pandas as pd\n",
        "from sklearn.model_selection import cross_val_score \n",
        "from sklearn.linear_model import LinearRegression"
      ]
    },
    {
      "cell_type": "code",
      "source": [
        "data=pd.read_csv(\"Boston.csv\")"
      ],
      "metadata": {
        "id": "aGahCk9ZvfFU"
      },
      "execution_count": null,
      "outputs": []
    },
    {
      "cell_type": "code",
      "source": [
        "x=data.iloc[:,:12].values\n",
        "y=data.iloc[:,12].values #this should be devided into training set and apply for cv"
      ],
      "metadata": {
        "id": "wO4x4Kt5v08I"
      },
      "execution_count": null,
      "outputs": []
    },
    {
      "cell_type": "code",
      "source": [
        "model=LinearRegression()"
      ],
      "metadata": {
        "id": "BzECUj1iv0-e"
      },
      "execution_count": null,
      "outputs": []
    },
    {
      "cell_type": "code",
      "source": [
        "ncval=cross_val_score(model,x,y,cv=10,scoring=\"neg_mean_squared_error\") #cv=10 means how many folds #each iteration checks means sq error in cross validataion"
      ],
      "metadata": {
        "id": "NlhglhL-v1BC"
      },
      "execution_count": null,
      "outputs": []
    },
    {
      "cell_type": "code",
      "source": [
        "cvval=-ncval\n",
        "cvval  "
      ],
      "metadata": {
        "colab": {
          "base_uri": "https://localhost:8080/"
        },
        "id": "0Bnn8zzQv1DY",
        "outputId": "c573d74a-b7a1-4d49-c596-f63b4946a6d0"
      },
      "execution_count": null,
      "outputs": [
        {
          "output_type": "execute_result",
          "data": {
            "text/plain": [
              "array([  9.17006701,  14.76188969,  11.78968809,  34.93168849,\n",
              "        26.8851826 ,  19.52818886,  10.70555866, 171.48795123,\n",
              "        35.0922184 ,  11.64765827])"
            ]
          },
          "metadata": {},
          "execution_count": 9
        }
      ]
    },
    {
      "cell_type": "code",
      "source": [
        "np.mean(np.sqrt(cvval))"
      ],
      "metadata": {
        "colab": {
          "base_uri": "https://localhost:8080/"
        },
        "id": "O7FdtcoKxS4r",
        "outputId": "bcca6218-64f0-4a6b-dcb9-c1ece8147506"
      },
      "execution_count": null,
      "outputs": [
        {
          "output_type": "execute_result",
          "data": {
            "text/plain": [
              "5.152242174479932"
            ]
          },
          "metadata": {},
          "execution_count": 12
        }
      ]
    },
    {
      "cell_type": "code",
      "source": [
        "ncval=cross_val_score(model,x,y,cv=10,scoring=\"accuracy\") #in classification"
      ],
      "metadata": {
        "id": "7g4o0MKev1Fo"
      },
      "execution_count": null,
      "outputs": []
    }
  ]
}